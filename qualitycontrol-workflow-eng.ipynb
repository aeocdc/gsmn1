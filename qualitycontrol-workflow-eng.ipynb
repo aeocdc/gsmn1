{
 "cells": [
  {
   "cell_type": "markdown",
   "metadata": {},
   "source": [
    "# Model quality check and improvement workflow"
   ]
  },
  {
   "cell_type": "markdown",
   "metadata": {},
   "source": [
    "1.Download the initila model constructed from ModelSEED. The format of initial model is SBML file.\n",
    "\n",
    "\n",
    "2.generate an excel file for the model for easy checking. "
   ]
  },
  {
   "cell_type": "code",
   "execution_count": 70,
   "metadata": {},
   "outputs": [],
   "source": [
    "#2.1 excel format model generation. for checking and revising model, such as reactions and their lower or upper bound information.\n",
    "import sbmltoexcel\n",
    "sbmltoexcel.sbml_excel('Seed1111.5.65232.xml','Seed1111.5.65232.xlsx')# sbml to excel\n",
    "#sbmltoexcel.model_excel(model_1,'model_1.xlsx') # cobrapy model to excel. If we want to check the model we can change it to excel formate at any time"
   ]
  },
  {
   "cell_type": "code",
   "execution_count": null,
   "metadata": {},
   "outputs": [],
   "source": [
    "#2.2 change the excel format to sbml format.\n",
    "import exceltosbml\n",
    "exceltosbml.excel_sbml('Seed1111.5.65232.xlsx')"
   ]
  },
  {
   "cell_type": "markdown",
   "metadata": {},
   "source": [
    "3 initial check and model revision"
   ]
  },
  {
   "cell_type": "code",
   "execution_count": 87,
   "metadata": {},
   "outputs": [],
   "source": [
    "#3.1 import some modules and read the sbml model\n",
    "from __future__ import print_function\n",
    "import cobra\n",
    "import re\n",
    "import pandas as pd\n",
    "from cobra import Model, Reaction, Metabolite\n",
    "from cobra.flux_analysis import pfba\n",
    "model = cobra.io.read_sbml_model('Seed1111.5.65232.xml') # read sbml format model"
   ]
  },
  {
   "cell_type": "code",
   "execution_count": 88,
   "metadata": {},
   "outputs": [
    {
     "name": "stdout",
     "output_type": "stream",
     "text": [
      "IN FLUXES             OUT FLUXES            OBJECTIVES\n",
      "--------------------  --------------------  -------------\n",
      "cpd00162_e0    1e+03  cpd00011_e0    1e+03  biomass0  149\n",
      "cpd00794_e0    1e+03  cpd00013_e0    1e+03\n",
      "cpd00129_e0  565      cpd00027_e0    1e+03\n",
      "cpd00209_e0  442      cpd00100_e0    1e+03\n",
      "cpd00588_e0  427      cpd00221_e0    1e+03\n",
      "cpd00082_e0  379      cpd00142_e0  879\n",
      "cpd00106_e0  251      cpd00001_e0  866\n",
      "cpd00009_e0  121      cpd00067_e0  740\n",
      "cpd00107_e0   56      cpd00023_e0  443\n",
      "cpd00039_e0   46.3    cpd00156_e0  189\n",
      "cpd00226_e0   45.1\n",
      "cpd00051_e0   36.8\n",
      "cpd00322_e0   36.1\n",
      "cpd00105_e0   30.9\n",
      "cpd00307_e0   30.9\n",
      "cpd11581_e0   29.9\n",
      "cpd11591_e0   19.5\n",
      "cpd15605_e0   19.3\n",
      "cpd15606_e0   18\n",
      "cpd01080_e0   12.7\n",
      "cpd15603_e0   12.3\n",
      "cpd00119_e0   11.8\n",
      "cpd00065_e0    7.04\n",
      "cpd00066_e0    3.75\n",
      "cpd03847_e0    3.73\n",
      "cpd10515_e0    1.85\n",
      "cpd00393_e0    1.39\n",
      "cpd11606_e0    0.924\n",
      "cpd00793_e0    0.462\n",
      "cpd00205_e0    0.462\n",
      "cpd00118_e0    0.462\n",
      "cpd00030_e0    0.462\n",
      "cpd00034_e0    0.462\n",
      "cpd00048_e0    0.462\n",
      "cpd00058_e0    0.462\n",
      "cpd00063_e0    0.462\n",
      "cpd00099_e0    0.462\n",
      "cpd00149_e0    0.462\n",
      "cpd00254_e0    0.462\n",
      "cpd00264_e0    0.462\n",
      "cpd01017_e0    0.462\n"
     ]
    }
   ],
   "source": [
    "#3.2 Calculate optimal growth rate and check its input and output\n",
    "model.optimize()\n",
    "model.summary() #check input/outputs for the optimal solution\n",
    "#model.medium\n",
    "# many substrates can be consumed, leading to unreasonable high growth rates, need to modify the boundaries of exchange reactions"
   ]
  },
  {
   "cell_type": "code",
   "execution_count": 89,
   "metadata": {},
   "outputs": [
    {
     "name": "stdout",
     "output_type": "stream",
     "text": [
      "IN FLUXES           OUT FLUXES          OBJECTIVES\n",
      "------------------  ------------------  -------------------\n",
      "cpd00027_e0  10     cpd00001_e0  19.6   biomass0  -5.55e-30\n",
      "cpd00009_e0   2.61  cpd00011_e0  18.3\n",
      "                    cpd00214_e0   2.61\n",
      "                    cpd00012_e0   1.3\n"
     ]
    }
   ],
   "source": [
    "#3.3 Change boundary of exchange reactions\n",
    "'''\n",
    "1. normally only allow one carbon source (default was glucose), uptake rate was set at 10mmol/g/h.\n",
    "2. oxygen exchange rate can be set to 0 for anaerobic or unlimited for aerobic\n",
    "3. CO2 exchange rate can be negative for CO2 fixation or 0 so that CO2 can only be released\n",
    "4. nitrogen (NH3) sulfur (H2S2O3,sulfate) and phosphate (Pi) sources can also be set, normally not limited\n",
    "5. exchange reactions for ions(Pb,Cd2,Cu2,Fe2,Fe3,Mg,K,Zn2,Na,Co2,Cl,Hg2,Mn2,Ca2) and H2O were unconstrained.\n",
    "3. boundaries of all other exchange reactions were set to 0-1000 so that the metabolites can only be produced but not consumed. \n",
    "'''\n",
    "c_exchange=['EX_cpd00027_e0'] #exchange reaction for carbon sources, use list to allow multiple sources\n",
    "for ex in c_exchange:\n",
    "    r=model.reactions.get_by_id(ex)\n",
    "    r.bounds=(-10, 1000) # maximal uptake rate 10mmol/g/h\n",
    "o_exchange=['EX_cpd00007_e0'] #exchange reaction for oxygen for anaerobic or aerobic conditions\n",
    "for ex in o_exchange:\n",
    "    r=model.reactions.get_by_id(ex)\n",
    "    r.bounds=(-1000, 1000) \n",
    "co2_exchange=['EX_cpd00011_e0'] #exchange reaction for CO2, \n",
    "for ex in co2_exchange:\n",
    "    r=model.reactions.get_by_id(ex)\n",
    "    r.bounds=(0, 1000) \n",
    "n_exchange=['EX_cpd00013_e0'] #exchange reaction for N sources\n",
    "for ex in n_exchange:\n",
    "    r=model.reactions.get_by_id(ex)\n",
    "    r.bounds=(-1000, 1000) \n",
    "s_exchange=['EX_cpd00048_e0','EX_cpd00268_e0'] #exchange reaction for sulafte and H2S2O3\n",
    "for ex in s_exchange:\n",
    "    r=model.reactions.get_by_id(ex)\n",
    "    r.bounds=(-1000, 1000) \n",
    "p_exchange=['EX_cpd00009_e0','EX_cpd00012_e0'] #exchange reaction for Pi and PPi\n",
    "for ex in p_exchange:\n",
    "    r=model.reactions.get_by_id(ex)\n",
    "    r.bounds=(-1000, 1000) \n",
    "ion_exchange=['EX_cpd04097_e0','EX_cpd00001_e0','EX_cpd00058_e0','EX_cpd10515_e0','EX_cpd10516_e0','EX_cpd00254_e0','EX_cpd00205_e0',\n",
    "            'EX_cpd00034_e0','EX_cpd00971_e0','EX_cpd00149_e0','EX_cpd00099_e0','EX_cpd00531_e0','EX_cpd00030_e0','EX_cpd00063_e0']\n",
    "preset_exchange=c_exchange+o_exchange+co2_exchange+n_exchange+s_exchange+p_exchange+ion_exchange\n",
    "for rea in model.boundary: \n",
    "    if rea.id not in preset_exchange:\n",
    "        rea.bounds=(0,1000)\n",
    "model.optimize()\n",
    "model.summary() \n",
    "cobra.io.write_sbml_model(model, \"model01.xml\")\n",
    "#growth likely to be zero, gaps in the network, but first check ATP production"
   ]
  },
  {
   "cell_type": "markdown",
   "metadata": {},
   "source": [
    "4 Check and revise the ATP production pathway "
   ]
  },
  {
   "cell_type": "code",
   "execution_count": 90,
   "metadata": {},
   "outputs": [
    {
     "name": "stdout",
     "output_type": "stream",
     "text": [
      "IN FLUXES           OUT FLUXES          OBJECTIVES\n",
      "------------------  ------------------  ------------\n",
      "cpd00027_e0  10     cpd00001_e0  19.6   ATPM  1e+03\n",
      "cpd00009_e0   2.61  cpd00011_e0  18.3\n",
      "                    cpd00214_e0   2.61\n",
      "                    cpd00012_e0   1.3\n"
     ]
    }
   ],
   "source": [
    "#4.1 Check the wrong ATP generation cycle, using the ATP consumption reaction (maintenance) rxn00062 as objective reaction\n",
    "#find the maintenance reaction by searching in excel, should change the lower bound to maintenace coefficient such as 4.9 \n",
    "#rin=model.reactions.get_by_id(\"EX_cpd00027_e0\") # check the glucose input\n",
    "#rin.bounds=(0, 1000) # we can turn off the carbon input\n",
    "if \"rxn00062_c0\" not in model.reactions: # rxn00062_c0 is the maintenance reaction of the model, if rxn00062_c0 not in model, add this reaction in model\n",
    "    reaction = Reaction('ATPM')\n",
    "    reaction.name = 'ATP maintenance reaction'\n",
    "    reaction.bounds = (0,1000)\n",
    "    reaction.add_metabolites({model.metabolites.get_by_id('H2O_c0'):-1.0,model.metabolites.get_by_id('ATP_c0'):-1.0,model.metabolites.get_by_id('ADP_c0'):1.0,model.metabolites.get_by_id('Phosphate_c0'):1.0,model.metabolites.get_by_id('H_plus_c0'):1.0})\n",
    "    reaction.gene_reaction_rule = ' '\n",
    "    reaction.genes\n",
    "    model.add_reactions([reaction])\n",
    "else:\n",
    "    model.reactions.get_by_id(\"rxn00062_c0\").id='ATPM'\n",
    "atpm=model.reactions.get_by_id(\"ATPM\")\n",
    "atpm.bounds=(4.9, 1000) #maintenace rate as lower bound\n",
    "#atpm.bounds=(-1000, 1000) #修改以使其可最小化净生成ATP，从而可计算净消耗ATP的无效循环\n",
    "model.objective=atpm # change objective function\n",
    "model.optimize()\n",
    "model.summary() \n",
    "#unreasonable high atp production rate, need to check the pathway to find what is wrong"
   ]
  },
  {
   "cell_type": "code",
   "execution_count": null,
   "metadata": {},
   "outputs": [],
   "source": [
    "model.add_reaction(r)\n",
    "r.build_reaction_from_string(row[colnames[1]],fwd_arrow=arrows[0], rev_arrow=arrows[1], reversible_arrow=arrows[2], term_split='+')\n",
    "    #自动根据反应方程创建反应添加代谢物"
   ]
  },
  {
   "cell_type": "code",
   "execution_count": 93,
   "metadata": {},
   "outputs": [],
   "source": [
    "#4.2 output the pathway to a text file to find the mistakes\n",
    "import output\n",
    "outputfile_name ='atp.txt' # provide output file name\n",
    "fluxes = pfba(model).fluxes #use pfba to get a simple path\n",
    "output.pathway(fluxes,outputfile_name)"
   ]
  },
  {
   "cell_type": "markdown",
   "metadata": {},
   "source": [
    "By checking the result pathway file, we can find ATP without consumption of any substrate but from a cycle pathway. Reaction flux for rxn00058_c0 ((4.0)H_c0 + (4.0)Cytochrome_c2_c0 + O2_c0 -->(2.0)H2O_c0 + (4.0)Cytochrome_c3_c0) is -500, however this reaction\tshould be irreversible as O2_c0 should only be consumed but not produced in the respiratory chain. This should be corrected by change the lower bound of this reaction to zeor to make it irreversible. \n",
    "Actually most errors in ATP generation were caused by mistakes in reaction reversibility, we need to repeat the process untill all erros are corrected and a reasonable amount of ATP is produced from the carbon source.We can use of a set of rules to quickly determine which reaction in a wrong pathway should be set to irreversible.\n",
    "1.\tOxygen consumption reactions,\n",
    "2.\tMost of the carbon dioxide production reaction (CO2 is only used as substrate when a high energy substrate such as PEP (phophoenolpyruvate) and ATP is consumed at the same time),\n",
    "3.\tMost of the NH3 production reaction (NH3 is only used in two NH3 assimilation reactions and carbamoyl phosphate production),\n",
    "4.\tMost of the phosphate production reaction (the reaction is regarded as reversible only when phosphate reacts with another high energy substrate such as AcCoA)\n",
    "5.\tReactions in which S-Adenosyl-L-methionine is converted to S-Adenosyl-L-homocystine for providing a methyl group,\n",
    "6.\tReactions in which tetrahydrofolate (THF) is produced for transferring one carbon unit, \n",
    "7.\tMost of the ATP (or other high energy metabolites) consumption reactions, except for reactions with another high energy metabolite such as GTP, CAP, acetyl phosphate, Acyl-CoA,\n",
    "8.\tUDP-sugar consumption reactions for transferring sugar units,  \n",
    "9.\tCDP-diacylglycerol consumption reactions for phosphatidyl group transfer,\n",
    "10.\treactions like: 3'-Phosphoadenylylsulfate (PAPS) + A = adenosine 3',5'-bisphosphate (PAP) + B\n",
    "\n",
    "To avoid the time consuming correction process, we compiled a list of reactions from ModelSeed that should be corrected to irreversible to avoid wrong ATP generation pathways. The model can be updated from this list. \n",
    "请生成一个修正反应列表，文本文件含三列数据 反应ID，下界 上界，由此文件更新sbml文件的model02.\n"
   ]
  },
  {
   "cell_type": "code",
   "execution_count": 91,
   "metadata": {},
   "outputs": [],
   "source": [
    "#4.3 According to calculated results of 4.2 revise model,then we will get 1.0 version\n",
    "rea_need_forward = ['rxn05604_c0','rxn05209_c0','rxn00058_c0','rxn05596_c0','rxn00146_c0','rxn10043_c0','rxn03991_c0','rxn03990_c0','rxn05145_c0','rxn10125_c0','rxn09240_c0'] # boundary change to 0-1000\n",
    "model_1=model\n",
    "for i in rea_need_forward:\n",
    "    model_1.reactions.get_by_id(i).bounds=(0, 1000)    \n",
    "rea_need_reversible = ['rxn10945_c0'] # boundary change to 00-0\n",
    "for j in rea_need_reversible:\n",
    "    model_1.reactions.get_by_id(j).bounds=(0, 0)\n",
    "\n",
    "# After correcting, repeat 4.2 step"
   ]
  },
  {
   "cell_type": "code",
   "execution_count": 24,
   "metadata": {},
   "outputs": [],
   "source": [
    "#4.4 Change the boundary of the model according to ModelSEED database, then wo got the model 1.0 version\n",
    "model_1 = model\n",
    "modelseed = cobra.io.read_sbml_model('seed_1.xml')\n",
    "for i in model_1.reactions:\n",
    "    for j in modelseed.reactions:\n",
    "        if i.id==j.id :\n",
    "            i.bounds=j.bounds  "
   ]
  },
  {
   "cell_type": "code",
   "execution_count": 76,
   "metadata": {},
   "outputs": [],
   "source": [
    "#4.4 Change the boundary of the model according to ModelSEED database, then wo got the model 1.0 version\n",
    "import csv\n",
    "model_1 = model\n",
    "s = csv.reader(open('PST_for_ATP_list.txt'), delimiter=\"\\t\")\n",
    "realist = []\n",
    "realist.extend(s)\n",
    "for i in model_1.reactions:\n",
    "    for j in realist:\n",
    "        if i.id==j[0] :\n",
    "            i.bounds=(float(j[3]),float(j[4]))"
   ]
  },
  {
   "cell_type": "code",
   "execution_count": 92,
   "metadata": {},
   "outputs": [],
   "source": [
    "import csv\n",
    "model_1 = model\n",
    "s = csv.reader(open('PST_rea_list.txt'), delimiter=\"\\t\")\n",
    "realist = []\n",
    "realist.extend(s)\n",
    "for i in model_1.reactions:\n",
    "    for j in realist:\n",
    "        if i.id==j[0] :\n",
    "            i.bounds=(float(j[3]),float(j[4]))"
   ]
  },
  {
   "cell_type": "markdown",
   "metadata": {},
   "source": [
    "When the ATP synthesis pathway was right, we go on check the biomass synthesis."
   ]
  },
  {
   "cell_type": "code",
   "execution_count": 81,
   "metadata": {},
   "outputs": [
    {
     "name": "stdout",
     "output_type": "stream",
     "text": [
      "IN FLUXES           OUT FLUXES          OBJECTIVES\n",
      "------------------  ------------------  ------------\n",
      "cpd00007_e0  1.38   cpd00001_e0  2.29   biomass0  0\n",
      "cpd00027_e0  0.688  cpd00011_e0  1.83\n",
      "cpd00013_e0  0.458  cpd00067_e0  0.458\n",
      "                    cpd00156_e0  0.458\n"
     ]
    }
   ],
   "source": [
    "model.objective=model_1.reactions.get_by_id('biomass0') # change objective function\n",
    "model.optimize()\n",
    "model.summary() "
   ]
  },
  {
   "cell_type": "code",
   "execution_count": 82,
   "metadata": {},
   "outputs": [
    {
     "name": "stdout",
     "output_type": "stream",
     "text": [
      "/media/jupyter/yuan_qq/Quality control/biomass_precursors/ 创建成功\n"
     ]
    }
   ],
   "source": [
    "#4.5 Calculate the biomass precursors to check which matabolites can not be generated\n",
    "import makefolder\n",
    "import biomass_cal\n",
    "outfolder = '/media/jupyter/yuan_qq/Quality control/biomass_precursors/' # (*Should provide) Folder's for store all calculated results of biomass precursors\n",
    "makefolder.mkdir (outfolder) # Create Folder\n",
    "summary = outfolder + 'summary.txt'\n",
    "precursors=[]\n",
    "for i in model.reactions.get_by_id('biomass0').reactants: # The biomass ID of initial model usually contains 'bio'\n",
    "    precursors.append(i)\n",
    "#biomass_cal.calculate(precursors,model,outfolder,summary) # Calculate all precursors' optimal production rtae\n",
    "import csv\n",
    "import output\n",
    "writefile = open(summary, 'w')\n",
    "for i in precursors:\n",
    "        #print(i)\n",
    "        i = str(i)\n",
    "        product = model.metabolites.get_by_id(i)\n",
    "        demand = model.add_boundary(product, type='demand')  # add demand reaction as the objective\n",
    "        model.objective = demand\n",
    "        outputfile_name = outfolder + i + '.txt'\n",
    "        fluxes = cobra.flux_analysis.pfba(model).fluxes\n",
    "        obj=str(fluxes['DM_'+i])\n",
    "        writefile.write(model.metabolites.get_by_id(i).name+\"\\t\"+obj+\"\\n\")                  \n",
    "        output.pathway(fluxes,outputfile_name)\n",
    "writefile.close()"
   ]
  },
  {
   "cell_type": "code",
   "execution_count": null,
   "metadata": {},
   "outputs": [],
   "source": []
  }
 ],
 "metadata": {
  "celltoolbar": "Raw Cell Format",
  "kernelspec": {
   "display_name": "enzyme_python",
   "language": "python",
   "name": "enzyme_python"
  },
  "language_info": {
   "codemirror_mode": {
    "name": "ipython",
    "version": 3
   },
   "file_extension": ".py",
   "mimetype": "text/x-python",
   "name": "python",
   "nbconvert_exporter": "python",
   "pygments_lexer": "ipython3",
   "version": "3.5.5"
  }
 },
 "nbformat": 4,
 "nbformat_minor": 1
}
