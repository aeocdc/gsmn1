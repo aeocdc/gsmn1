{
 "cells": [
  {
   "cell_type": "code",
   "execution_count": null,
   "metadata": {},
   "outputs": [],
   "source": [
    "%%time\n",
    "import cobra.test\n",
    "from cobra import *\n",
    "from cobra.flux_analysis import pfba,moma\n",
    "folder_model = \"/media/jupyter/yang_y/qualitycontrol-workflow/data/\"\n",
    "name_model = \"iML1515.xml\"\n",
    "model = cobra.io.read_sbml_model(folder_model+name_model)\n",
    "\n",
    "solution = model.optimize()\n",
    "for r in model.reactions:\n",
    "    with model:\n",
    "        r.knock_out()\n",
    "        solution_moma = moma(model, solution=solution, linear = False)\n",
    "        print(r.id, solution.f,solution_moma.f)\n",
    "    break"
   ]
  }
 ],
 "metadata": {
  "kernelspec": {
   "display_name": "enzyme_python",
   "language": "python",
   "name": "enzyme_python"
  },
  "language_info": {
   "codemirror_mode": {
    "name": "ipython",
    "version": 3
   },
   "file_extension": ".py",
   "mimetype": "text/x-python",
   "name": "python",
   "nbconvert_exporter": "python",
   "pygments_lexer": "ipython3",
   "version": "3.5.5"
  }
 },
 "nbformat": 4,
 "nbformat_minor": 2
}
